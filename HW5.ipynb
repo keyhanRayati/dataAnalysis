{
 "cells": [
  {
   "attachments": {},
   "cell_type": "markdown",
   "metadata": {},
   "source": [
    "# PART 1"
   ]
  },
  {
   "attachments": {},
   "cell_type": "markdown",
   "metadata": {},
   "source": [
    "## 1)"
   ]
  },
  {
   "cell_type": "code",
   "execution_count": 195,
   "metadata": {},
   "outputs": [],
   "source": [
    "import numpy as np\n",
    "import matplotlib.pyplot as plt\n",
    "import pandas as pd "
   ]
  },
  {
   "cell_type": "code",
   "execution_count": 203,
   "metadata": {},
   "outputs": [
    {
     "data": {
      "text/html": [
       "<div>\n",
       "<style scoped>\n",
       "    .dataframe tbody tr th:only-of-type {\n",
       "        vertical-align: middle;\n",
       "    }\n",
       "\n",
       "    .dataframe tbody tr th {\n",
       "        vertical-align: top;\n",
       "    }\n",
       "\n",
       "    .dataframe thead th {\n",
       "        text-align: right;\n",
       "    }\n",
       "</style>\n",
       "<table border=\"1\" class=\"dataframe\">\n",
       "  <thead>\n",
       "    <tr style=\"text-align: right;\">\n",
       "      <th></th>\n",
       "      <th>patient</th>\n",
       "      <th>action</th>\n",
       "      <th>resource</th>\n",
       "      <th>DateTime</th>\n",
       "    </tr>\n",
       "  </thead>\n",
       "  <tbody>\n",
       "    <tr>\n",
       "      <th>0</th>\n",
       "      <td>patient 0</td>\n",
       "      <td>First consult</td>\n",
       "      <td>Dr. Anna</td>\n",
       "      <td>2017-01-02 11:40:11</td>\n",
       "    </tr>\n",
       "    <tr>\n",
       "      <th>1</th>\n",
       "      <td>patient 0</td>\n",
       "      <td>Blood test</td>\n",
       "      <td>Lab</td>\n",
       "      <td>2017-01-02 12:47:33</td>\n",
       "    </tr>\n",
       "    <tr>\n",
       "      <th>2</th>\n",
       "      <td>patient 0</td>\n",
       "      <td>Physical test</td>\n",
       "      <td>Nurse Jesse</td>\n",
       "      <td>2017-01-02 12:53:50</td>\n",
       "    </tr>\n",
       "    <tr>\n",
       "      <th>3</th>\n",
       "      <td>patient 0</td>\n",
       "      <td>Second consult</td>\n",
       "      <td>Dr. Anna</td>\n",
       "      <td>2017-01-02 16:21:06</td>\n",
       "    </tr>\n",
       "    <tr>\n",
       "      <th>4</th>\n",
       "      <td>patient 0</td>\n",
       "      <td>Surgery</td>\n",
       "      <td>Dr. Charlie</td>\n",
       "      <td>2017-01-05 13:23:09</td>\n",
       "    </tr>\n",
       "    <tr>\n",
       "      <th>...</th>\n",
       "      <td>...</td>\n",
       "      <td>...</td>\n",
       "      <td>...</td>\n",
       "      <td>...</td>\n",
       "    </tr>\n",
       "    <tr>\n",
       "      <th>685</th>\n",
       "      <td>patient 99</td>\n",
       "      <td>X-ray scan</td>\n",
       "      <td>Team 2</td>\n",
       "      <td>2017-05-25 11:03:27</td>\n",
       "    </tr>\n",
       "    <tr>\n",
       "      <th>686</th>\n",
       "      <td>patient 99</td>\n",
       "      <td>Physical test</td>\n",
       "      <td>Nurse Corey</td>\n",
       "      <td>2017-05-25 11:55:24</td>\n",
       "    </tr>\n",
       "    <tr>\n",
       "      <th>687</th>\n",
       "      <td>patient 99</td>\n",
       "      <td>Second consult</td>\n",
       "      <td>Dr. Anna</td>\n",
       "      <td>2017-05-29 15:12:39</td>\n",
       "    </tr>\n",
       "    <tr>\n",
       "      <th>688</th>\n",
       "      <td>patient 99</td>\n",
       "      <td>Medicine</td>\n",
       "      <td>Pharmacy</td>\n",
       "      <td>2017-05-29 16:17:13</td>\n",
       "    </tr>\n",
       "    <tr>\n",
       "      <th>689</th>\n",
       "      <td>patient 99</td>\n",
       "      <td>Final consult</td>\n",
       "      <td>Dr. Anna</td>\n",
       "      <td>2017-05-31 12:46:43</td>\n",
       "    </tr>\n",
       "  </tbody>\n",
       "</table>\n",
       "<p>690 rows × 4 columns</p>\n",
       "</div>"
      ],
      "text/plain": [
       "        patient           action      resource              DateTime\n",
       "0     patient 0    First consult      Dr. Anna   2017-01-02 11:40:11\n",
       "1     patient 0       Blood test           Lab   2017-01-02 12:47:33\n",
       "2     patient 0    Physical test   Nurse Jesse   2017-01-02 12:53:50\n",
       "3     patient 0   Second consult      Dr. Anna   2017-01-02 16:21:06\n",
       "4     patient 0          Surgery   Dr. Charlie   2017-01-05 13:23:09\n",
       "..          ...              ...           ...                   ...\n",
       "685  patient 99       X-ray scan        Team 2   2017-05-25 11:03:27\n",
       "686  patient 99    Physical test   Nurse Corey   2017-05-25 11:55:24\n",
       "687  patient 99   Second consult      Dr. Anna   2017-05-29 15:12:39\n",
       "688  patient 99         Medicine      Pharmacy   2017-05-29 16:17:13\n",
       "689  patient 99    Final consult      Dr. Anna   2017-05-31 12:46:43\n",
       "\n",
       "[690 rows x 4 columns]"
      ]
     },
     "execution_count": 203,
     "metadata": {},
     "output_type": "execute_result"
    }
   ],
   "source": [
    "df_patient = pd.read_csv('PatientTreatment.csv')\n",
    "df_patient"
   ]
  },
  {
   "attachments": {},
   "cell_type": "markdown",
   "metadata": {},
   "source": [
    "### الف)"
   ]
  },
  {
   "cell_type": "code",
   "execution_count": 204,
   "metadata": {},
   "outputs": [
    {
     "data": {
      "text/plain": [
       "100"
      ]
     },
     "execution_count": 204,
     "metadata": {},
     "output_type": "execute_result"
    }
   ],
   "source": [
    "len(pd.unique(df_patient.patient))"
   ]
  },
  {
   "cell_type": "code",
   "execution_count": 205,
   "metadata": {},
   "outputs": [
    {
     "data": {
      "text/plain": [
       "patient     object\n",
       "action      object\n",
       "resource    object\n",
       "DateTime    object\n",
       "dtype: object"
      ]
     },
     "execution_count": 205,
     "metadata": {},
     "output_type": "execute_result"
    }
   ],
   "source": [
    "df_patient.dtypes"
   ]
  },
  {
   "cell_type": "code",
   "execution_count": 206,
   "metadata": {},
   "outputs": [],
   "source": [
    "df_patient['DateTime']= pd.to_datetime(df_patient['DateTime'])\n",
    "df_patient['action']= df_patient['action'].astype('category')\n",
    "df_patient['resource']= df_patient['resource'].astype('category')\n"
   ]
  },
  {
   "cell_type": "code",
   "execution_count": 207,
   "metadata": {},
   "outputs": [
    {
     "data": {
      "text/plain": [
       "patient             object\n",
       "action            category\n",
       "resource          category\n",
       "DateTime    datetime64[ns]\n",
       "dtype: object"
      ]
     },
     "execution_count": 207,
     "metadata": {},
     "output_type": "execute_result"
    }
   ],
   "source": [
    "df_patient.dtypes"
   ]
  },
  {
   "attachments": {},
   "cell_type": "markdown",
   "metadata": {},
   "source": [
    "### ب)"
   ]
  },
  {
   "cell_type": "code",
   "execution_count": 208,
   "metadata": {},
   "outputs": [
    {
     "data": {
      "text/html": [
       "<div>\n",
       "<style scoped>\n",
       "    .dataframe tbody tr th:only-of-type {\n",
       "        vertical-align: middle;\n",
       "    }\n",
       "\n",
       "    .dataframe tbody tr th {\n",
       "        vertical-align: top;\n",
       "    }\n",
       "\n",
       "    .dataframe thead th {\n",
       "        text-align: right;\n",
       "    }\n",
       "</style>\n",
       "<table border=\"1\" class=\"dataframe\">\n",
       "  <thead>\n",
       "    <tr style=\"text-align: right;\">\n",
       "      <th></th>\n",
       "      <th>action</th>\n",
       "      <th>number</th>\n",
       "    </tr>\n",
       "  </thead>\n",
       "  <tbody>\n",
       "    <tr>\n",
       "      <th>7</th>\n",
       "      <td>Surgery</td>\n",
       "      <td>20</td>\n",
       "    </tr>\n",
       "    <tr>\n",
       "      <th>6</th>\n",
       "      <td>Medicine</td>\n",
       "      <td>80</td>\n",
       "    </tr>\n",
       "    <tr>\n",
       "      <th>5</th>\n",
       "      <td>X-ray scan</td>\n",
       "      <td>90</td>\n",
       "    </tr>\n",
       "    <tr>\n",
       "      <th>0</th>\n",
       "      <td>Blood test</td>\n",
       "      <td>100</td>\n",
       "    </tr>\n",
       "    <tr>\n",
       "      <th>1</th>\n",
       "      <td>Final consult</td>\n",
       "      <td>100</td>\n",
       "    </tr>\n",
       "    <tr>\n",
       "      <th>2</th>\n",
       "      <td>First consult</td>\n",
       "      <td>100</td>\n",
       "    </tr>\n",
       "    <tr>\n",
       "      <th>3</th>\n",
       "      <td>Physical test</td>\n",
       "      <td>100</td>\n",
       "    </tr>\n",
       "    <tr>\n",
       "      <th>4</th>\n",
       "      <td>Second consult</td>\n",
       "      <td>100</td>\n",
       "    </tr>\n",
       "  </tbody>\n",
       "</table>\n",
       "</div>"
      ],
      "text/plain": [
       "            action  number\n",
       "7          Surgery      20\n",
       "6         Medicine      80\n",
       "5       X-ray scan      90\n",
       "0       Blood test     100\n",
       "1    Final consult     100\n",
       "2    First consult     100\n",
       "3    Physical test     100\n",
       "4   Second consult     100"
      ]
     },
     "execution_count": 208,
     "metadata": {},
     "output_type": "execute_result"
    }
   ],
   "source": [
    "action_counter = df_patient['action'].value_counts().to_frame().reset_index()\n",
    "action_counter.rename(columns={'index' : 'action' , 'action' : 'number'} , inplace=True)\n",
    "action_counter.sort_values(by = ['number'] , ascending=True , inplace=True)\n",
    "action_counter"
   ]
  },
  {
   "cell_type": "code",
   "execution_count": 209,
   "metadata": {},
   "outputs": [
    {
     "data": {
      "text/plain": [
       "Text(0.5, 1.0, 'number of actions done by patients')"
      ]
     },
     "execution_count": 209,
     "metadata": {},
     "output_type": "execute_result"
    },
    {
     "data": {
      "image/png": "[encoded data removed]",
      "text/plain": [
       "<Figure size 936x504 with 1 Axes>"
      ]
     },
     "metadata": {
      "needs_background": "light"
     },
     "output_type": "display_data"
    }
   ],
   "source": [
    "plt.figure(figsize = (13 , 7) )\n",
    "plt.bar(action_counter.action , action_counter.number )\n",
    "plt.xlabel(\"action\")\n",
    "plt.ylabel('number')\n",
    "plt.title('number of actions done by patients')"
   ]
  },
  {
   "attachments": {},
   "cell_type": "markdown",
   "metadata": {},
   "source": [
    "### ج)"
   ]
  },
  {
   "cell_type": "code",
   "execution_count": 210,
   "metadata": {},
   "outputs": [
    {
     "data": {
      "text/html": [
       "<div>\n",
       "<style scoped>\n",
       "    .dataframe tbody tr th:only-of-type {\n",
       "        vertical-align: middle;\n",
       "    }\n",
       "\n",
       "    .dataframe tbody tr th {\n",
       "        vertical-align: top;\n",
       "    }\n",
       "\n",
       "    .dataframe thead th {\n",
       "        text-align: right;\n",
       "    }\n",
       "</style>\n",
       "<table border=\"1\" class=\"dataframe\">\n",
       "  <thead>\n",
       "    <tr style=\"text-align: right;\">\n",
       "      <th></th>\n",
       "      <th>resource</th>\n",
       "      <th>number</th>\n",
       "    </tr>\n",
       "  </thead>\n",
       "  <tbody>\n",
       "    <tr>\n",
       "      <th>12</th>\n",
       "      <td>Dr. Quinn</td>\n",
       "      <td>3</td>\n",
       "    </tr>\n",
       "    <tr>\n",
       "      <th>10</th>\n",
       "      <td>Dr. Alex</td>\n",
       "      <td>5</td>\n",
       "    </tr>\n",
       "    <tr>\n",
       "      <th>11</th>\n",
       "      <td>Dr. Charlie</td>\n",
       "      <td>5</td>\n",
       "    </tr>\n",
       "    <tr>\n",
       "      <th>9</th>\n",
       "      <td>Dr. Rudy</td>\n",
       "      <td>7</td>\n",
       "    </tr>\n",
       "    <tr>\n",
       "      <th>8</th>\n",
       "      <td>Team 1</td>\n",
       "      <td>40</td>\n",
       "    </tr>\n",
       "    <tr>\n",
       "      <th>7</th>\n",
       "      <td>Nurse Corey</td>\n",
       "      <td>43</td>\n",
       "    </tr>\n",
       "    <tr>\n",
       "      <th>5</th>\n",
       "      <td>Dr. Ben</td>\n",
       "      <td>50</td>\n",
       "    </tr>\n",
       "    <tr>\n",
       "      <th>6</th>\n",
       "      <td>Team 2</td>\n",
       "      <td>50</td>\n",
       "    </tr>\n",
       "    <tr>\n",
       "      <th>4</th>\n",
       "      <td>Nurse Jesse</td>\n",
       "      <td>57</td>\n",
       "    </tr>\n",
       "    <tr>\n",
       "      <th>3</th>\n",
       "      <td>Pharmacy</td>\n",
       "      <td>80</td>\n",
       "    </tr>\n",
       "    <tr>\n",
       "      <th>2</th>\n",
       "      <td>Dr. Bob</td>\n",
       "      <td>92</td>\n",
       "    </tr>\n",
       "    <tr>\n",
       "      <th>1</th>\n",
       "      <td>Lab</td>\n",
       "      <td>100</td>\n",
       "    </tr>\n",
       "    <tr>\n",
       "      <th>0</th>\n",
       "      <td>Dr. Anna</td>\n",
       "      <td>158</td>\n",
       "    </tr>\n",
       "  </tbody>\n",
       "</table>\n",
       "</div>"
      ],
      "text/plain": [
       "        resource  number\n",
       "12     Dr. Quinn       3\n",
       "10      Dr. Alex       5\n",
       "11   Dr. Charlie       5\n",
       "9       Dr. Rudy       7\n",
       "8         Team 1      40\n",
       "7    Nurse Corey      43\n",
       "5        Dr. Ben      50\n",
       "6         Team 2      50\n",
       "4    Nurse Jesse      57\n",
       "3       Pharmacy      80\n",
       "2        Dr. Bob      92\n",
       "1            Lab     100\n",
       "0       Dr. Anna     158"
      ]
     },
     "execution_count": 210,
     "metadata": {},
     "output_type": "execute_result"
    }
   ],
   "source": [
    "resource_counter = df_patient['resource'].value_counts().to_frame().reset_index()\n",
    "resource_counter.rename(columns={'index' : 'resource' , 'resource' : 'number'} , inplace=True)\n",
    "resource_counter.sort_values(by = ['number'] , ascending=True , inplace=True)\n",
    "resource_counter"
   ]
  },
  {
   "cell_type": "code",
   "execution_count": 211,
   "metadata": {},
   "outputs": [
    {
     "data": {
      "text/plain": [
       "Text(0.5, 1.0, 'number of resources used by patients')"
      ]
     },
     "execution_count": 211,
     "metadata": {},
     "output_type": "execute_result"
    },
    {
     "data": {
      "image/png": "[encoded data removed]",
      "text/plain": [
       "<Figure size 1080x504 with 1 Axes>"
      ]
     },
     "metadata": {
      "needs_background": "light"
     },
     "output_type": "display_data"
    }
   ],
   "source": [
    "plt.figure(figsize = (15 , 7) )\n",
    "plt.bar(resource_counter.resource , resource_counter.number )\n",
    "plt.xlabel(\"resource\")\n",
    "plt.ylabel('number')\n",
    "plt.title('number of resources used by patients')"
   ]
  },
  {
   "attachments": {},
   "cell_type": "markdown",
   "metadata": {},
   "source": [
    "## 2)"
   ]
  },
  {
   "cell_type": "code",
   "execution_count": 212,
   "metadata": {},
   "outputs": [],
   "source": [
    "import seaborn as sns"
   ]
  },
  {
   "cell_type": "code",
   "execution_count": 213,
   "metadata": {},
   "outputs": [
    {
     "data": {
      "text/plain": [
       "<matplotlib.legend.Legend at 0x1c9dd71f310>"
      ]
     },
     "execution_count": 213,
     "metadata": {},
     "output_type": "execute_result"
    },
    {
     "data": {
      "image/png": "[encoded data removed]",
      "text/plain": [
       "<Figure size 720x432 with 1 Axes>"
      ]
     },
     "metadata": {},
     "output_type": "display_data"
    }
   ],
   "source": [
    "sns.set(rc={'figure.figsize':(10,6)})\n",
    "sns.scatterplot(data = df_patient, x = 'DateTime' , y = 'resource' , hue=\"action\")\n",
    "plt.legend(bbox_to_anchor=(1.05, 1), loc='upper left', borderaxespad=0)\n"
   ]
  },
  {
   "attachments": {},
   "cell_type": "markdown",
   "metadata": {},
   "source": [
    "## 3)"
   ]
  },
  {
   "cell_type": "code",
   "execution_count": 214,
   "metadata": {},
   "outputs": [
    {
     "data": {
      "text/plain": [
       "<AxesSubplot:xlabel='action', ylabel='patient'>"
      ]
     },
     "execution_count": 214,
     "metadata": {},
     "output_type": "execute_result"
    },
    {
     "data": {
      "image/png": "[encoded data removed]",
      "text/plain": [
       "<Figure size 720x432 with 2 Axes>"
      ]
     },
     "metadata": {},
     "output_type": "display_data"
    }
   ],
   "source": [
    "heatmap = pd.crosstab(df_patient['patient'] , df_patient['action'])\n",
    "sns.heatmap(heatmap , cmap =  \"crest\")\n"
   ]
  },
  {
   "attachments": {},
   "cell_type": "markdown",
   "metadata": {},
   "source": [
    "## 4)"
   ]
  },
  {
   "cell_type": "code",
   "execution_count": 215,
   "metadata": {},
   "outputs": [
    {
     "data": {
      "text/html": [
       "<div>\n",
       "<style scoped>\n",
       "    .dataframe tbody tr th:only-of-type {\n",
       "        vertical-align: middle;\n",
       "    }\n",
       "\n",
       "    .dataframe tbody tr th {\n",
       "        vertical-align: top;\n",
       "    }\n",
       "\n",
       "    .dataframe thead th {\n",
       "        text-align: right;\n",
       "    }\n",
       "</style>\n",
       "<table border=\"1\" class=\"dataframe\">\n",
       "  <thead>\n",
       "    <tr style=\"text-align: right;\">\n",
       "      <th></th>\n",
       "      <th>patient</th>\n",
       "      <th>action</th>\n",
       "      <th>resource</th>\n",
       "      <th>DateTime</th>\n",
       "      <th>minDate</th>\n",
       "      <th>maxDate</th>\n",
       "    </tr>\n",
       "  </thead>\n",
       "  <tbody>\n",
       "    <tr>\n",
       "      <th>0</th>\n",
       "      <td>patient 0</td>\n",
       "      <td>First consult</td>\n",
       "      <td>Dr. Anna</td>\n",
       "      <td>2017-01-02 11:40:11</td>\n",
       "      <td>2017-01-02 11:40:11</td>\n",
       "      <td>2017-01-09 08:29:28</td>\n",
       "    </tr>\n",
       "    <tr>\n",
       "      <th>1</th>\n",
       "      <td>patient 0</td>\n",
       "      <td>Blood test</td>\n",
       "      <td>Lab</td>\n",
       "      <td>2017-01-02 12:47:33</td>\n",
       "      <td>2017-01-02 11:40:11</td>\n",
       "      <td>2017-01-09 08:29:28</td>\n",
       "    </tr>\n",
       "    <tr>\n",
       "      <th>2</th>\n",
       "      <td>patient 0</td>\n",
       "      <td>Physical test</td>\n",
       "      <td>Nurse Jesse</td>\n",
       "      <td>2017-01-02 12:53:50</td>\n",
       "      <td>2017-01-02 11:40:11</td>\n",
       "      <td>2017-01-09 08:29:28</td>\n",
       "    </tr>\n",
       "    <tr>\n",
       "      <th>3</th>\n",
       "      <td>patient 0</td>\n",
       "      <td>Second consult</td>\n",
       "      <td>Dr. Anna</td>\n",
       "      <td>2017-01-02 16:21:06</td>\n",
       "      <td>2017-01-02 11:40:11</td>\n",
       "      <td>2017-01-09 08:29:28</td>\n",
       "    </tr>\n",
       "    <tr>\n",
       "      <th>4</th>\n",
       "      <td>patient 0</td>\n",
       "      <td>Surgery</td>\n",
       "      <td>Dr. Charlie</td>\n",
       "      <td>2017-01-05 13:23:09</td>\n",
       "      <td>2017-01-02 11:40:11</td>\n",
       "      <td>2017-01-09 08:29:28</td>\n",
       "    </tr>\n",
       "    <tr>\n",
       "      <th>...</th>\n",
       "      <td>...</td>\n",
       "      <td>...</td>\n",
       "      <td>...</td>\n",
       "      <td>...</td>\n",
       "      <td>...</td>\n",
       "      <td>...</td>\n",
       "    </tr>\n",
       "    <tr>\n",
       "      <th>685</th>\n",
       "      <td>patient 99</td>\n",
       "      <td>X-ray scan</td>\n",
       "      <td>Team 2</td>\n",
       "      <td>2017-05-25 11:03:27</td>\n",
       "      <td>2017-05-18 11:57:11</td>\n",
       "      <td>2017-05-31 12:46:43</td>\n",
       "    </tr>\n",
       "    <tr>\n",
       "      <th>686</th>\n",
       "      <td>patient 99</td>\n",
       "      <td>Physical test</td>\n",
       "      <td>Nurse Corey</td>\n",
       "      <td>2017-05-25 11:55:24</td>\n",
       "      <td>2017-05-18 11:57:11</td>\n",
       "      <td>2017-05-31 12:46:43</td>\n",
       "    </tr>\n",
       "    <tr>\n",
       "      <th>687</th>\n",
       "      <td>patient 99</td>\n",
       "      <td>Second consult</td>\n",
       "      <td>Dr. Anna</td>\n",
       "      <td>2017-05-29 15:12:39</td>\n",
       "      <td>2017-05-18 11:57:11</td>\n",
       "      <td>2017-05-31 12:46:43</td>\n",
       "    </tr>\n",
       "    <tr>\n",
       "      <th>688</th>\n",
       "      <td>patient 99</td>\n",
       "      <td>Medicine</td>\n",
       "      <td>Pharmacy</td>\n",
       "      <td>2017-05-29 16:17:13</td>\n",
       "      <td>2017-05-18 11:57:11</td>\n",
       "      <td>2017-05-31 12:46:43</td>\n",
       "    </tr>\n",
       "    <tr>\n",
       "      <th>689</th>\n",
       "      <td>patient 99</td>\n",
       "      <td>Final consult</td>\n",
       "      <td>Dr. Anna</td>\n",
       "      <td>2017-05-31 12:46:43</td>\n",
       "      <td>2017-05-18 11:57:11</td>\n",
       "      <td>2017-05-31 12:46:43</td>\n",
       "    </tr>\n",
       "  </tbody>\n",
       "</table>\n",
       "<p>690 rows × 6 columns</p>\n",
       "</div>"
      ],
      "text/plain": [
       "        patient           action      resource            DateTime  \\\n",
       "0     patient 0    First consult      Dr. Anna 2017-01-02 11:40:11   \n",
       "1     patient 0       Blood test           Lab 2017-01-02 12:47:33   \n",
       "2     patient 0    Physical test   Nurse Jesse 2017-01-02 12:53:50   \n",
       "3     patient 0   Second consult      Dr. Anna 2017-01-02 16:21:06   \n",
       "4     patient 0          Surgery   Dr. Charlie 2017-01-05 13:23:09   \n",
       "..          ...              ...           ...                 ...   \n",
       "685  patient 99       X-ray scan        Team 2 2017-05-25 11:03:27   \n",
       "686  patient 99    Physical test   Nurse Corey 2017-05-25 11:55:24   \n",
       "687  patient 99   Second consult      Dr. Anna 2017-05-29 15:12:39   \n",
       "688  patient 99         Medicine      Pharmacy 2017-05-29 16:17:13   \n",
       "689  patient 99    Final consult      Dr. Anna 2017-05-31 12:46:43   \n",
       "\n",
       "                minDate             maxDate  \n",
       "0   2017-01-02 11:40:11 2017-01-09 08:29:28  \n",
       "1   2017-01-02 11:40:11 2017-01-09 08:29:28  \n",
       "2   2017-01-02 11:40:11 2017-01-09 08:29:28  \n",
       "3   2017-01-02 11:40:11 2017-01-09 08:29:28  \n",
       "4   2017-01-02 11:40:11 2017-01-09 08:29:28  \n",
       "..                  ...                 ...  \n",
       "685 2017-05-18 11:57:11 2017-05-31 12:46:43  \n",
       "686 2017-05-18 11:57:11 2017-05-31 12:46:43  \n",
       "687 2017-05-18 11:57:11 2017-05-31 12:46:43  \n",
       "688 2017-05-18 11:57:11 2017-05-31 12:46:43  \n",
       "689 2017-05-18 11:57:11 2017-05-31 12:46:43  \n",
       "\n",
       "[690 rows x 6 columns]"
      ]
     },
     "execution_count": 215,
     "metadata": {},
     "output_type": "execute_result"
    }
   ],
   "source": [
    "for i in pd.unique(df_patient.patient):\n",
    "    df_patient.loc[df_patient.patient == i , 'minDate'] =  df_patient[df_patient.patient == i][df_patient.action == ' First consult'].iloc[0,:].DateTime \n",
    "    df_patient.loc[df_patient.patient == i , 'maxDate'] =  df_patient[df_patient.patient == i][df_patient.action == ' Final consult'].iloc[0,:].DateTime \n",
    "df_patient"
   ]
  },
  {
   "cell_type": "code",
   "execution_count": 216,
   "metadata": {},
   "outputs": [
    {
     "data": {
      "text/html": [
       "<div>\n",
       "<style scoped>\n",
       "    .dataframe tbody tr th:only-of-type {\n",
       "        vertical-align: middle;\n",
       "    }\n",
       "\n",
       "    .dataframe tbody tr th {\n",
       "        vertical-align: top;\n",
       "    }\n",
       "\n",
       "    .dataframe thead th {\n",
       "        text-align: right;\n",
       "    }\n",
       "</style>\n",
       "<table border=\"1\" class=\"dataframe\">\n",
       "  <thead>\n",
       "    <tr style=\"text-align: right;\">\n",
       "      <th></th>\n",
       "      <th>patient</th>\n",
       "      <th>action</th>\n",
       "      <th>resource</th>\n",
       "      <th>DateTime</th>\n",
       "      <th>minDate</th>\n",
       "      <th>maxDate</th>\n",
       "      <th>timeDifference</th>\n",
       "      <th>domain</th>\n",
       "    </tr>\n",
       "  </thead>\n",
       "  <tbody>\n",
       "    <tr>\n",
       "      <th>0</th>\n",
       "      <td>patient 0</td>\n",
       "      <td>First consult</td>\n",
       "      <td>Dr. Anna</td>\n",
       "      <td>2017-01-02 11:40:11</td>\n",
       "      <td>2017-01-02 11:40:11</td>\n",
       "      <td>2017-01-09 08:29:28</td>\n",
       "      <td>0.0</td>\n",
       "      <td>593357.0</td>\n",
       "    </tr>\n",
       "    <tr>\n",
       "      <th>1</th>\n",
       "      <td>patient 0</td>\n",
       "      <td>Blood test</td>\n",
       "      <td>Lab</td>\n",
       "      <td>2017-01-02 12:47:33</td>\n",
       "      <td>2017-01-02 11:40:11</td>\n",
       "      <td>2017-01-09 08:29:28</td>\n",
       "      <td>4042.0</td>\n",
       "      <td>593357.0</td>\n",
       "    </tr>\n",
       "    <tr>\n",
       "      <th>2</th>\n",
       "      <td>patient 0</td>\n",
       "      <td>Physical test</td>\n",
       "      <td>Nurse Jesse</td>\n",
       "      <td>2017-01-02 12:53:50</td>\n",
       "      <td>2017-01-02 11:40:11</td>\n",
       "      <td>2017-01-09 08:29:28</td>\n",
       "      <td>4419.0</td>\n",
       "      <td>593357.0</td>\n",
       "    </tr>\n",
       "    <tr>\n",
       "      <th>3</th>\n",
       "      <td>patient 0</td>\n",
       "      <td>Second consult</td>\n",
       "      <td>Dr. Anna</td>\n",
       "      <td>2017-01-02 16:21:06</td>\n",
       "      <td>2017-01-02 11:40:11</td>\n",
       "      <td>2017-01-09 08:29:28</td>\n",
       "      <td>16855.0</td>\n",
       "      <td>593357.0</td>\n",
       "    </tr>\n",
       "    <tr>\n",
       "      <th>4</th>\n",
       "      <td>patient 0</td>\n",
       "      <td>Surgery</td>\n",
       "      <td>Dr. Charlie</td>\n",
       "      <td>2017-01-05 13:23:09</td>\n",
       "      <td>2017-01-02 11:40:11</td>\n",
       "      <td>2017-01-09 08:29:28</td>\n",
       "      <td>265378.0</td>\n",
       "      <td>593357.0</td>\n",
       "    </tr>\n",
       "    <tr>\n",
       "      <th>...</th>\n",
       "      <td>...</td>\n",
       "      <td>...</td>\n",
       "      <td>...</td>\n",
       "      <td>...</td>\n",
       "      <td>...</td>\n",
       "      <td>...</td>\n",
       "      <td>...</td>\n",
       "      <td>...</td>\n",
       "    </tr>\n",
       "    <tr>\n",
       "      <th>685</th>\n",
       "      <td>patient 99</td>\n",
       "      <td>X-ray scan</td>\n",
       "      <td>Team 2</td>\n",
       "      <td>2017-05-25 11:03:27</td>\n",
       "      <td>2017-05-18 11:57:11</td>\n",
       "      <td>2017-05-31 12:46:43</td>\n",
       "      <td>601576.0</td>\n",
       "      <td>1126172.0</td>\n",
       "    </tr>\n",
       "    <tr>\n",
       "      <th>686</th>\n",
       "      <td>patient 99</td>\n",
       "      <td>Physical test</td>\n",
       "      <td>Nurse Corey</td>\n",
       "      <td>2017-05-25 11:55:24</td>\n",
       "      <td>2017-05-18 11:57:11</td>\n",
       "      <td>2017-05-31 12:46:43</td>\n",
       "      <td>604693.0</td>\n",
       "      <td>1126172.0</td>\n",
       "    </tr>\n",
       "    <tr>\n",
       "      <th>687</th>\n",
       "      <td>patient 99</td>\n",
       "      <td>Second consult</td>\n",
       "      <td>Dr. Anna</td>\n",
       "      <td>2017-05-29 15:12:39</td>\n",
       "      <td>2017-05-18 11:57:11</td>\n",
       "      <td>2017-05-31 12:46:43</td>\n",
       "      <td>962128.0</td>\n",
       "      <td>1126172.0</td>\n",
       "    </tr>\n",
       "    <tr>\n",
       "      <th>688</th>\n",
       "      <td>patient 99</td>\n",
       "      <td>Medicine</td>\n",
       "      <td>Pharmacy</td>\n",
       "      <td>2017-05-29 16:17:13</td>\n",
       "      <td>2017-05-18 11:57:11</td>\n",
       "      <td>2017-05-31 12:46:43</td>\n",
       "      <td>966002.0</td>\n",
       "      <td>1126172.0</td>\n",
       "    </tr>\n",
       "    <tr>\n",
       "      <th>689</th>\n",
       "      <td>patient 99</td>\n",
       "      <td>Final consult</td>\n",
       "      <td>Dr. Anna</td>\n",
       "      <td>2017-05-31 12:46:43</td>\n",
       "      <td>2017-05-18 11:57:11</td>\n",
       "      <td>2017-05-31 12:46:43</td>\n",
       "      <td>1126172.0</td>\n",
       "      <td>1126172.0</td>\n",
       "    </tr>\n",
       "  </tbody>\n",
       "</table>\n",
       "<p>690 rows × 8 columns</p>\n",
       "</div>"
      ],
      "text/plain": [
       "        patient           action      resource            DateTime  \\\n",
       "0     patient 0    First consult      Dr. Anna 2017-01-02 11:40:11   \n",
       "1     patient 0       Blood test           Lab 2017-01-02 12:47:33   \n",
       "2     patient 0    Physical test   Nurse Jesse 2017-01-02 12:53:50   \n",
       "3     patient 0   Second consult      Dr. Anna 2017-01-02 16:21:06   \n",
       "4     patient 0          Surgery   Dr. Charlie 2017-01-05 13:23:09   \n",
       "..          ...              ...           ...                 ...   \n",
       "685  patient 99       X-ray scan        Team 2 2017-05-25 11:03:27   \n",
       "686  patient 99    Physical test   Nurse Corey 2017-05-25 11:55:24   \n",
       "687  patient 99   Second consult      Dr. Anna 2017-05-29 15:12:39   \n",
       "688  patient 99         Medicine      Pharmacy 2017-05-29 16:17:13   \n",
       "689  patient 99    Final consult      Dr. Anna 2017-05-31 12:46:43   \n",
       "\n",
       "                minDate             maxDate  timeDifference     domain  \n",
       "0   2017-01-02 11:40:11 2017-01-09 08:29:28             0.0   593357.0  \n",
       "1   2017-01-02 11:40:11 2017-01-09 08:29:28          4042.0   593357.0  \n",
       "2   2017-01-02 11:40:11 2017-01-09 08:29:28          4419.0   593357.0  \n",
       "3   2017-01-02 11:40:11 2017-01-09 08:29:28         16855.0   593357.0  \n",
       "4   2017-01-02 11:40:11 2017-01-09 08:29:28        265378.0   593357.0  \n",
       "..                  ...                 ...             ...        ...  \n",
       "685 2017-05-18 11:57:11 2017-05-31 12:46:43        601576.0  1126172.0  \n",
       "686 2017-05-18 11:57:11 2017-05-31 12:46:43        604693.0  1126172.0  \n",
       "687 2017-05-18 11:57:11 2017-05-31 12:46:43        962128.0  1126172.0  \n",
       "688 2017-05-18 11:57:11 2017-05-31 12:46:43        966002.0  1126172.0  \n",
       "689 2017-05-18 11:57:11 2017-05-31 12:46:43       1126172.0  1126172.0  \n",
       "\n",
       "[690 rows x 8 columns]"
      ]
     },
     "execution_count": 216,
     "metadata": {},
     "output_type": "execute_result"
    }
   ],
   "source": [
    "for i in df_patient.index:\n",
    "    dif = df_patient.loc[i,'DateTime'] - df_patient.loc[i,'minDate']\n",
    "    df_patient.loc[i , 'timeDifference'] = dif.days * 24 * 3600 + dif.seconds\n",
    "    dif = df_patient.loc[i,'maxDate'] - df_patient.loc[i,'minDate']\n",
    "    df_patient.loc[i , 'domain'] = dif.days * 24 * 3600 + dif.seconds\n",
    "df_patient"
   ]
  },
  {
   "cell_type": "code",
   "execution_count": 217,
   "metadata": {},
   "outputs": [
    {
     "data": {
      "text/html": [
       "<div>\n",
       "<style scoped>\n",
       "    .dataframe tbody tr th:only-of-type {\n",
       "        vertical-align: middle;\n",
       "    }\n",
       "\n",
       "    .dataframe tbody tr th {\n",
       "        vertical-align: top;\n",
       "    }\n",
       "\n",
       "    .dataframe thead th {\n",
       "        text-align: right;\n",
       "    }\n",
       "</style>\n",
       "<table border=\"1\" class=\"dataframe\">\n",
       "  <thead>\n",
       "    <tr style=\"text-align: right;\">\n",
       "      <th></th>\n",
       "      <th>patient</th>\n",
       "      <th>action</th>\n",
       "      <th>resource</th>\n",
       "      <th>DateTime</th>\n",
       "      <th>minDate</th>\n",
       "      <th>maxDate</th>\n",
       "      <th>timeDifference</th>\n",
       "      <th>domain</th>\n",
       "    </tr>\n",
       "  </thead>\n",
       "  <tbody>\n",
       "    <tr>\n",
       "      <th>322</th>\n",
       "      <td>patient 47</td>\n",
       "      <td>X-ray scan</td>\n",
       "      <td>Team 1</td>\n",
       "      <td>2017-03-16 11:37:27</td>\n",
       "      <td>2017-03-10 09:27:44</td>\n",
       "      <td>2017-03-27 12:10:48</td>\n",
       "      <td>526183.0</td>\n",
       "      <td>1478584.0</td>\n",
       "    </tr>\n",
       "    <tr>\n",
       "      <th>323</th>\n",
       "      <td>patient 47</td>\n",
       "      <td>Blood test</td>\n",
       "      <td>Lab</td>\n",
       "      <td>2017-03-16 11:56:43</td>\n",
       "      <td>2017-03-10 09:27:44</td>\n",
       "      <td>2017-03-27 12:10:48</td>\n",
       "      <td>527339.0</td>\n",
       "      <td>1478584.0</td>\n",
       "    </tr>\n",
       "    <tr>\n",
       "      <th>321</th>\n",
       "      <td>patient 47</td>\n",
       "      <td>First consult</td>\n",
       "      <td>Dr. Anna</td>\n",
       "      <td>2017-03-10 09:27:44</td>\n",
       "      <td>2017-03-10 09:27:44</td>\n",
       "      <td>2017-03-27 12:10:48</td>\n",
       "      <td>0.0</td>\n",
       "      <td>1478584.0</td>\n",
       "    </tr>\n",
       "    <tr>\n",
       "      <th>324</th>\n",
       "      <td>patient 47</td>\n",
       "      <td>Physical test</td>\n",
       "      <td>Nurse Jesse</td>\n",
       "      <td>2017-03-16 12:21:37</td>\n",
       "      <td>2017-03-10 09:27:44</td>\n",
       "      <td>2017-03-27 12:10:48</td>\n",
       "      <td>528833.0</td>\n",
       "      <td>1478584.0</td>\n",
       "    </tr>\n",
       "    <tr>\n",
       "      <th>325</th>\n",
       "      <td>patient 47</td>\n",
       "      <td>Second consult</td>\n",
       "      <td>Dr. Anna</td>\n",
       "      <td>2017-03-21 16:24:41</td>\n",
       "      <td>2017-03-10 09:27:44</td>\n",
       "      <td>2017-03-27 12:10:48</td>\n",
       "      <td>975417.0</td>\n",
       "      <td>1478584.0</td>\n",
       "    </tr>\n",
       "    <tr>\n",
       "      <th>...</th>\n",
       "      <td>...</td>\n",
       "      <td>...</td>\n",
       "      <td>...</td>\n",
       "      <td>...</td>\n",
       "      <td>...</td>\n",
       "      <td>...</td>\n",
       "      <td>...</td>\n",
       "      <td>...</td>\n",
       "    </tr>\n",
       "    <tr>\n",
       "      <th>526</th>\n",
       "      <td>patient 76</td>\n",
       "      <td>Physical test</td>\n",
       "      <td>Nurse Corey</td>\n",
       "      <td>2017-04-19 14:40:28</td>\n",
       "      <td>2017-04-19 10:52:43</td>\n",
       "      <td>2017-04-20 12:26:47</td>\n",
       "      <td>13665.0</td>\n",
       "      <td>92044.0</td>\n",
       "    </tr>\n",
       "    <tr>\n",
       "      <th>527</th>\n",
       "      <td>patient 76</td>\n",
       "      <td>Second consult</td>\n",
       "      <td>Dr. Anna</td>\n",
       "      <td>2017-04-19 15:59:10</td>\n",
       "      <td>2017-04-19 10:52:43</td>\n",
       "      <td>2017-04-20 12:26:47</td>\n",
       "      <td>18387.0</td>\n",
       "      <td>92044.0</td>\n",
       "    </tr>\n",
       "    <tr>\n",
       "      <th>528</th>\n",
       "      <td>patient 76</td>\n",
       "      <td>Medicine</td>\n",
       "      <td>Pharmacy</td>\n",
       "      <td>2017-04-19 17:14:14</td>\n",
       "      <td>2017-04-19 10:52:43</td>\n",
       "      <td>2017-04-20 12:26:47</td>\n",
       "      <td>22891.0</td>\n",
       "      <td>92044.0</td>\n",
       "    </tr>\n",
       "    <tr>\n",
       "      <th>529</th>\n",
       "      <td>patient 76</td>\n",
       "      <td>Final consult</td>\n",
       "      <td>Dr. Ben</td>\n",
       "      <td>2017-04-20 12:26:47</td>\n",
       "      <td>2017-04-19 10:52:43</td>\n",
       "      <td>2017-04-20 12:26:47</td>\n",
       "      <td>92044.0</td>\n",
       "      <td>92044.0</td>\n",
       "    </tr>\n",
       "    <tr>\n",
       "      <th>525</th>\n",
       "      <td>patient 76</td>\n",
       "      <td>X-ray scan</td>\n",
       "      <td>Team 1</td>\n",
       "      <td>2017-04-19 14:05:24</td>\n",
       "      <td>2017-04-19 10:52:43</td>\n",
       "      <td>2017-04-20 12:26:47</td>\n",
       "      <td>11561.0</td>\n",
       "      <td>92044.0</td>\n",
       "    </tr>\n",
       "  </tbody>\n",
       "</table>\n",
       "<p>690 rows × 8 columns</p>\n",
       "</div>"
      ],
      "text/plain": [
       "        patient           action      resource            DateTime  \\\n",
       "322  patient 47       X-ray scan        Team 1 2017-03-16 11:37:27   \n",
       "323  patient 47       Blood test           Lab 2017-03-16 11:56:43   \n",
       "321  patient 47    First consult      Dr. Anna 2017-03-10 09:27:44   \n",
       "324  patient 47    Physical test   Nurse Jesse 2017-03-16 12:21:37   \n",
       "325  patient 47   Second consult      Dr. Anna 2017-03-21 16:24:41   \n",
       "..          ...              ...           ...                 ...   \n",
       "526  patient 76    Physical test   Nurse Corey 2017-04-19 14:40:28   \n",
       "527  patient 76   Second consult      Dr. Anna 2017-04-19 15:59:10   \n",
       "528  patient 76         Medicine      Pharmacy 2017-04-19 17:14:14   \n",
       "529  patient 76    Final consult       Dr. Ben 2017-04-20 12:26:47   \n",
       "525  patient 76       X-ray scan        Team 1 2017-04-19 14:05:24   \n",
       "\n",
       "                minDate             maxDate  timeDifference     domain  \n",
       "322 2017-03-10 09:27:44 2017-03-27 12:10:48        526183.0  1478584.0  \n",
       "323 2017-03-10 09:27:44 2017-03-27 12:10:48        527339.0  1478584.0  \n",
       "321 2017-03-10 09:27:44 2017-03-27 12:10:48             0.0  1478584.0  \n",
       "324 2017-03-10 09:27:44 2017-03-27 12:10:48        528833.0  1478584.0  \n",
       "325 2017-03-10 09:27:44 2017-03-27 12:10:48        975417.0  1478584.0  \n",
       "..                  ...                 ...             ...        ...  \n",
       "526 2017-04-19 10:52:43 2017-04-20 12:26:47         13665.0    92044.0  \n",
       "527 2017-04-19 10:52:43 2017-04-20 12:26:47         18387.0    92044.0  \n",
       "528 2017-04-19 10:52:43 2017-04-20 12:26:47         22891.0    92044.0  \n",
       "529 2017-04-19 10:52:43 2017-04-20 12:26:47         92044.0    92044.0  \n",
       "525 2017-04-19 10:52:43 2017-04-20 12:26:47         11561.0    92044.0  \n",
       "\n",
       "[690 rows x 8 columns]"
      ]
     },
     "execution_count": 217,
     "metadata": {},
     "output_type": "execute_result"
    }
   ],
   "source": [
    "df_patient.sort_values(by = ['domain'] , ascending = False , inplace = True)\n",
    "df_patient"
   ]
  },
  {
   "cell_type": "code",
   "execution_count": 221,
   "metadata": {},
   "outputs": [
    {
     "data": {
      "text/plain": [
       "<matplotlib.legend.Legend at 0x1c9ee259d50>"
      ]
     },
     "execution_count": 221,
     "metadata": {},
     "output_type": "execute_result"
    },
    {
     "data": {
      "image/png": "[encoded data removed]",
      "text/plain": [
       "<Figure size 720x504 with 1 Axes>"
      ]
     },
     "metadata": {},
     "output_type": "display_data"
    }
   ],
   "source": [
    "sns.set(rc={'figure.figsize':(10,7)})\n",
    "sns.scatterplot(data = df_patient, x = 'timeDifference' , y = 'patient' , hue=\"action\")\n",
    "plt.yticks(np.arange(0,100,5))\n",
    "plt.legend(bbox_to_anchor=(1.05, 1), loc='upper left', borderaxespad=0)"
   ]
  },
  {
   "attachments": {},
   "cell_type": "markdown",
   "metadata": {},
   "source": [
    "## 5)"
   ]
  },
  {
   "cell_type": "code",
   "execution_count": 222,
   "metadata": {},
   "outputs": [
    {
     "data": {
      "text/plain": [
       "{' X-ray scan': 0,\n",
       " ' Blood test': 0,\n",
       " ' First consult': 0,\n",
       " ' Physical test': 0,\n",
       " ' Second consult': 0,\n",
       " ' Surgery': 0,\n",
       " ' Final consult': 0,\n",
       " ' Medicine': 0}"
      ]
     },
     "execution_count": 222,
     "metadata": {},
     "output_type": "execute_result"
    }
   ],
   "source": [
    "dict = {}\n",
    "for a in df_patient.action: \n",
    "    dict[a] = 0\n",
    "dict"
   ]
  },
  {
   "cell_type": "code",
   "execution_count": 223,
   "metadata": {},
   "outputs": [],
   "source": [
    "for i in df_patient.index:\n",
    "    dict[df_patient.loc[i , 'action']]+=1"
   ]
  },
  {
   "cell_type": "code",
   "execution_count": 224,
   "metadata": {},
   "outputs": [
    {
     "data": {
      "text/plain": [
       "{' X-ray scan': 90,\n",
       " ' Blood test': 100,\n",
       " ' First consult': 100,\n",
       " ' Physical test': 100,\n",
       " ' Second consult': 100,\n",
       " ' Surgery': 20,\n",
       " ' Final consult': 100,\n",
       " ' Medicine': 80}"
      ]
     },
     "execution_count": 224,
     "metadata": {},
     "output_type": "execute_result"
    }
   ],
   "source": [
    "dict"
   ]
  },
  {
   "attachments": {},
   "cell_type": "markdown",
   "metadata": {},
   "source": [
    "## 6)"
   ]
  },
  {
   "cell_type": "code",
   "execution_count": 225,
   "metadata": {},
   "outputs": [],
   "source": [
    "df_p =df_patient.copy()\n",
    "df_p.drop(['timeDifference'] , axis = 1 , inplace=True)"
   ]
  },
  {
   "cell_type": "code",
   "execution_count": 226,
   "metadata": {},
   "outputs": [],
   "source": [
    "patinet_ser =df_p[df_patient.action == ' Surgery']['patient']"
   ]
  },
  {
   "cell_type": "code",
   "execution_count": 227,
   "metadata": {},
   "outputs": [],
   "source": [
    "list = []\n",
    "for i in patinet_ser:\n",
    "    dif = df_p.loc[df_p.patient == i][df_p.action == ' Surgery'].iloc[0,:].DateTime - df_p.loc[df_p.patient == i][df_p.action == ' Second consult'].iloc[0,:].DateTime\n",
    "    list.append( (dif.days *24*3600 + dif.seconds) / 60   )"
   ]
  },
  {
   "cell_type": "code",
   "execution_count": 228,
   "metadata": {},
   "outputs": [],
   "source": [
    "import warnings\n",
    "warnings.filterwarnings('ignore')"
   ]
  },
  {
   "cell_type": "code",
   "execution_count": 230,
   "metadata": {},
   "outputs": [
    {
     "data": {
      "text/plain": [
       "Text(0.5, 0, 'Time (min)')"
      ]
     },
     "execution_count": 230,
     "metadata": {},
     "output_type": "execute_result"
    },
    {
     "data": {
      "image/png": "[encoded data removed]",
      "text/plain": [
       "<Figure size 576x432 with 1 Axes>"
      ]
     },
     "metadata": {},
     "output_type": "display_data"
    }
   ],
   "source": [
    "sns.set(rc={'figure.figsize':(8,6)})\n",
    "sns.distplot(list , bins = 6)\n",
    "plt.title(\"distribution of Time between second consult and surgery\")\n",
    "plt.xlabel(\"Time (min)\")\n"
   ]
  },
  {
   "attachments": {},
   "cell_type": "markdown",
   "metadata": {},
   "source": [
    "# PART 2:"
   ]
  },
  {
   "cell_type": "code",
   "execution_count": 3,
   "metadata": {},
   "outputs": [
    {
     "data": {
      "text/html": [
       "<div>\n",
       "<style scoped>\n",
       "    .dataframe tbody tr th:only-of-type {\n",
       "        vertical-align: middle;\n",
       "    }\n",
       "\n",
       "    .dataframe tbody tr th {\n",
       "        vertical-align: top;\n",
       "    }\n",
       "\n",
       "    .dataframe thead th {\n",
       "        text-align: right;\n",
       "    }\n",
       "</style>\n",
       "<table border=\"1\" class=\"dataframe\">\n",
       "  <thead>\n",
       "    <tr style=\"text-align: right;\">\n",
       "      <th></th>\n",
       "      <th>transaction_id</th>\n",
       "      <th>product_id</th>\n",
       "      <th>customer_id</th>\n",
       "      <th>transaction_date</th>\n",
       "      <th>online_order</th>\n",
       "      <th>product_size</th>\n",
       "    </tr>\n",
       "  </thead>\n",
       "  <tbody>\n",
       "    <tr>\n",
       "      <th>0</th>\n",
       "      <td>1</td>\n",
       "      <td>2</td>\n",
       "      <td>2950</td>\n",
       "      <td>2017-02-25</td>\n",
       "      <td>0.0</td>\n",
       "      <td>medium</td>\n",
       "    </tr>\n",
       "    <tr>\n",
       "      <th>1</th>\n",
       "      <td>2</td>\n",
       "      <td>3</td>\n",
       "      <td>3120</td>\n",
       "      <td>2017-05-21</td>\n",
       "      <td>1.0</td>\n",
       "      <td>large</td>\n",
       "    </tr>\n",
       "    <tr>\n",
       "      <th>2</th>\n",
       "      <td>3</td>\n",
       "      <td>37</td>\n",
       "      <td>402</td>\n",
       "      <td>2017-10-16</td>\n",
       "      <td>0.0</td>\n",
       "      <td>medium</td>\n",
       "    </tr>\n",
       "    <tr>\n",
       "      <th>3</th>\n",
       "      <td>4</td>\n",
       "      <td>88</td>\n",
       "      <td>3135</td>\n",
       "      <td>2017-08-31</td>\n",
       "      <td>0.0</td>\n",
       "      <td>medium</td>\n",
       "    </tr>\n",
       "    <tr>\n",
       "      <th>4</th>\n",
       "      <td>5</td>\n",
       "      <td>78</td>\n",
       "      <td>787</td>\n",
       "      <td>2017-10-01</td>\n",
       "      <td>1.0</td>\n",
       "      <td>large</td>\n",
       "    </tr>\n",
       "    <tr>\n",
       "      <th>...</th>\n",
       "      <td>...</td>\n",
       "      <td>...</td>\n",
       "      <td>...</td>\n",
       "      <td>...</td>\n",
       "      <td>...</td>\n",
       "      <td>...</td>\n",
       "    </tr>\n",
       "    <tr>\n",
       "      <th>19995</th>\n",
       "      <td>19996</td>\n",
       "      <td>51</td>\n",
       "      <td>1018</td>\n",
       "      <td>2017-06-24</td>\n",
       "      <td>1.0</td>\n",
       "      <td>medium</td>\n",
       "    </tr>\n",
       "    <tr>\n",
       "      <th>19996</th>\n",
       "      <td>19997</td>\n",
       "      <td>41</td>\n",
       "      <td>127</td>\n",
       "      <td>2017-11-09</td>\n",
       "      <td>1.0</td>\n",
       "      <td>medium</td>\n",
       "    </tr>\n",
       "    <tr>\n",
       "      <th>19997</th>\n",
       "      <td>19998</td>\n",
       "      <td>87</td>\n",
       "      <td>2284</td>\n",
       "      <td>2017-04-14</td>\n",
       "      <td>1.0</td>\n",
       "      <td>medium</td>\n",
       "    </tr>\n",
       "    <tr>\n",
       "      <th>19998</th>\n",
       "      <td>19999</td>\n",
       "      <td>6</td>\n",
       "      <td>2764</td>\n",
       "      <td>2017-07-03</td>\n",
       "      <td>0.0</td>\n",
       "      <td>medium</td>\n",
       "    </tr>\n",
       "    <tr>\n",
       "      <th>19999</th>\n",
       "      <td>20000</td>\n",
       "      <td>11</td>\n",
       "      <td>1144</td>\n",
       "      <td>2017-09-22</td>\n",
       "      <td>1.0</td>\n",
       "      <td>small</td>\n",
       "    </tr>\n",
       "  </tbody>\n",
       "</table>\n",
       "<p>20000 rows × 6 columns</p>\n",
       "</div>"
      ],
      "text/plain": [
       "       transaction_id  product_id  customer_id transaction_date  online_order  \\\n",
       "0                   1           2         2950       2017-02-25           0.0   \n",
       "1                   2           3         3120       2017-05-21           1.0   \n",
       "2                   3          37          402       2017-10-16           0.0   \n",
       "3                   4          88         3135       2017-08-31           0.0   \n",
       "4                   5          78          787       2017-10-01           1.0   \n",
       "...               ...         ...          ...              ...           ...   \n",
       "19995           19996          51         1018       2017-06-24           1.0   \n",
       "19996           19997          41          127       2017-11-09           1.0   \n",
       "19997           19998          87         2284       2017-04-14           1.0   \n",
       "19998           19999           6         2764       2017-07-03           0.0   \n",
       "19999           20000          11         1144       2017-09-22           1.0   \n",
       "\n",
       "      product_size  \n",
       "0           medium  \n",
       "1            large  \n",
       "2           medium  \n",
       "3           medium  \n",
       "4            large  \n",
       "...            ...  \n",
       "19995       medium  \n",
       "19996       medium  \n",
       "19997       medium  \n",
       "19998       medium  \n",
       "19999        small  \n",
       "\n",
       "[20000 rows x 6 columns]"
      ]
     },
     "execution_count": 3,
     "metadata": {},
     "output_type": "execute_result"
    }
   ],
   "source": [
    "transaction = pd.read_csv('transaction.csv')\n",
    "transaction"
   ]
  },
  {
   "cell_type": "code",
   "execution_count": 61,
   "metadata": {},
   "outputs": [
    {
     "data": {
      "text/plain": [
       "'2017-01-01'"
      ]
     },
     "execution_count": 61,
     "metadata": {},
     "output_type": "execute_result"
    }
   ],
   "source": [
    "min(transaction.transaction_date)"
   ]
  },
  {
   "cell_type": "code",
   "execution_count": 7,
   "metadata": {},
   "outputs": [
    {
     "name": "stdout",
     "output_type": "stream",
     "text": [
      "<class 'pandas.core.frame.DataFrame'>\n",
      "RangeIndex: 20000 entries, 0 to 19999\n",
      "Data columns (total 6 columns):\n",
      " #   Column            Non-Null Count  Dtype  \n",
      "---  ------            --------------  -----  \n",
      " 0   transaction_id    20000 non-null  int64  \n",
      " 1   product_id        20000 non-null  int64  \n",
      " 2   customer_id       20000 non-null  int64  \n",
      " 3   transaction_date  20000 non-null  object \n",
      " 4   online_order      19640 non-null  float64\n",
      " 5   product_size      19803 non-null  object \n",
      "dtypes: float64(1), int64(3), object(2)\n",
      "memory usage: 937.6+ KB\n"
     ]
    }
   ],
   "source": [
    "transaction.info()"
   ]
  },
  {
   "cell_type": "code",
   "execution_count": 4,
   "metadata": {},
   "outputs": [
    {
     "name": "stdout",
     "output_type": "stream",
     "text": [
      "<class 'pandas.core.frame.DataFrame'>\n",
      "RangeIndex: 20000 entries, 0 to 19999\n",
      "Data columns (total 6 columns):\n",
      " #   Column            Non-Null Count  Dtype         \n",
      "---  ------            --------------  -----         \n",
      " 0   transaction_id    20000 non-null  int64         \n",
      " 1   product_id        20000 non-null  int64         \n",
      " 2   customer_id       20000 non-null  int64         \n",
      " 3   transaction_date  20000 non-null  datetime64[ns]\n",
      " 4   online_order      19640 non-null  float64       \n",
      " 5   product_size      19803 non-null  category      \n",
      "dtypes: category(1), datetime64[ns](1), float64(1), int64(3)\n",
      "memory usage: 801.0 KB\n"
     ]
    }
   ],
   "source": [
    "transaction['transaction_date']= pd.to_datetime(transaction['transaction_date'])\n",
    "transaction['product_size']= transaction['product_size'].astype('category')\n",
    "transaction.info()"
   ]
  },
  {
   "cell_type": "code",
   "execution_count": 100,
   "metadata": {},
   "outputs": [],
   "source": [
    "lists = []\n",
    "for id in pd.unique(transaction.customer_id):\n",
    "    date = transaction[transaction.customer_id == id]['transaction_date']\n",
    "    dates = date.sort_values().reset_index().transaction_date\n",
    "    list = []\n",
    "    for i in range(len(dates)):\n",
    "        list.append(int(str(dates[i])[5:7]) - int(str(dates[0])[5:7]))\n",
    "    lists.append(list)\n"
   ]
  },
  {
   "cell_type": "code",
   "execution_count": null,
   "metadata": {},
   "outputs": [],
   "source": [
    "lists2 = []\n",
    "for l in lists:\n",
    "    b = []\n",
    "    [b.append(i) for i in l if i not in b]\n",
    "    lists2.append(b)\n"
   ]
  },
  {
   "cell_type": "code",
   "execution_count": 109,
   "metadata": {},
   "outputs": [],
   "source": [
    "dict = {}\n",
    "for i in range(12):\n",
    "    dict[i] = 0\n",
    "count = len(lists2)\n",
    "for i in lists2:\n",
    "    for j in range(12):\n",
    "        if j in i:\n",
    "            dict[j] += 1  \n",
    "        else:\n",
    "            break \n"
   ]
  },
  {
   "cell_type": "code",
   "execution_count": 110,
   "metadata": {},
   "outputs": [],
   "source": [
    "for i in range(12):\n",
    "    dict[i] = dict[i] / count"
   ]
  },
  {
   "cell_type": "code",
   "execution_count": 111,
   "metadata": {},
   "outputs": [
    {
     "data": {
      "text/plain": [
       "Text(0, 0.5, 'retention rate')"
      ]
     },
     "execution_count": 111,
     "metadata": {},
     "output_type": "execute_result"
    },
    {
     "data": {
      "image/png": "[encoded data removed]",
      "text/plain": [
       "<Figure size 432x288 with 1 Axes>"
      ]
     },
     "metadata": {
      "needs_background": "light"
     },
     "output_type": "display_data"
    }
   ],
   "source": [
    "plt.plot( dict.keys() ,  dict.values()    )   \n",
    "plt.title(\"retention rate per month\")\n",
    "plt.xlabel(\"month after first buy\")\n",
    "plt.ylabel(\"retention rate\")\n",
    " "
   ]
  },
  {
   "attachments": {},
   "cell_type": "markdown",
   "metadata": {},
   "source": [
    "drop duplicates in online order "
   ]
  },
  {
   "cell_type": "code",
   "execution_count": 113,
   "metadata": {},
   "outputs": [],
   "source": [
    "transaction2 = transaction[transaction['online_order'].notna()]"
   ]
  },
  {
   "cell_type": "code",
   "execution_count": 114,
   "metadata": {},
   "outputs": [],
   "source": [
    "transaction_online = transaction2[transaction2['online_order']  == 1.0]\n",
    "transaction_offline = transaction2[transaction2['online_order']  == 0.0]\n"
   ]
  },
  {
   "cell_type": "code",
   "execution_count": 115,
   "metadata": {},
   "outputs": [],
   "source": [
    "lists = []\n",
    "for id in pd.unique(transaction_online.customer_id):\n",
    "    date = transaction_online[transaction_online.customer_id == id]['transaction_date']\n",
    "    dates = date.sort_values().reset_index().transaction_date\n",
    "    list = []\n",
    "    for i in range(len(dates)):\n",
    "        list.append(int(str(dates[i])[5:7]) - int(str(dates[0])[5:7]))\n",
    "    lists.append(list)\n",
    "\n",
    "lists_ = []\n",
    "for id in pd.unique(transaction_offline.customer_id):\n",
    "    date = transaction_offline[transaction_offline.customer_id == id]['transaction_date']\n",
    "    dates = date.sort_values().reset_index().transaction_date\n",
    "    list = []\n",
    "    for i in range(len(dates)):\n",
    "        list.append(int(str(dates[i])[5:7]) - int(str(dates[0])[5:7]))\n",
    "    lists_.append(list)\n"
   ]
  },
  {
   "cell_type": "code",
   "execution_count": 116,
   "metadata": {},
   "outputs": [],
   "source": [
    "lists2 = []\n",
    "for l in lists:\n",
    "    b = []\n",
    "    [b.append(i) for i in l if i not in b]\n",
    "    lists2.append(b)\n",
    "lists_2 = []\n",
    "for l in lists_:\n",
    "    b = []\n",
    "    [b.append(i) for i in l if i not in b]\n",
    "    lists_2.append(b)\n"
   ]
  },
  {
   "cell_type": "code",
   "execution_count": 126,
   "metadata": {},
   "outputs": [],
   "source": [
    "dict = {}\n",
    "for i in range(12):\n",
    "    dict[i] = 0\n",
    "count = len(lists2)\n",
    "for i in lists2:\n",
    "    for j in range(12):\n",
    "        if j in i:\n",
    "            dict[j] += 1  \n",
    "        else:\n",
    "            break \n",
    "\n",
    "dict2 = {}\n",
    "for i in range(12):\n",
    "    dict2[i] = 0\n",
    "count2 = len(lists_2)\n",
    "for i in lists_2:\n",
    "    for j in range(12):\n",
    "        if j in i:\n",
    "            dict2[j] += 1  \n",
    "        else:\n",
    "            break "
   ]
  },
  {
   "cell_type": "code",
   "execution_count": 127,
   "metadata": {},
   "outputs": [],
   "source": [
    "for i in range(12):\n",
    "    dict[i] = dict[i] / count\n",
    "for i in range(12):\n",
    "    dict2[i] = dict2[i] / count2"
   ]
  },
  {
   "cell_type": "code",
   "execution_count": 158,
   "metadata": {},
   "outputs": [
    {
     "data": {
      "text/plain": [
       "Text(0, 0.5, 'retention rate')"
      ]
     },
     "execution_count": 158,
     "metadata": {},
     "output_type": "execute_result"
    },
    {
     "data": {
      "image/png": "[encoded data removed]",
      "text/plain": [
       "<Figure size 864x504 with 1 Axes>"
      ]
     },
     "metadata": {
      "needs_background": "light"
     },
     "output_type": "display_data"
    }
   ],
   "source": [
    "plt.figure(figsize=(12,7))\n",
    "plt.plot( dict.keys() ,  dict.values()  , label = \"online\" ,  )  \n",
    "plt.plot( dict2.keys() ,  dict2.values()   , label = \"offline\" , color = 'red' , alpha = 0.6)   \n",
    "plt.legend()\n",
    "plt.title(\"retention rate per month\")\n",
    "plt.xlabel(\"month after first buy\")\n",
    "plt.ylabel(\"retention rate\")\n",
    " "
   ]
  },
  {
   "attachments": {},
   "cell_type": "markdown",
   "metadata": {},
   "source": [
    "### 3 "
   ]
  },
  {
   "cell_type": "code",
   "execution_count": 135,
   "metadata": {},
   "outputs": [],
   "source": [
    "transaction3 = transaction[transaction['product_size'].notna()]"
   ]
  },
  {
   "cell_type": "code",
   "execution_count": 136,
   "metadata": {},
   "outputs": [],
   "source": [
    "transaction_small = transaction3[transaction3['product_size']  == 'small']\n",
    "transaction_medium = transaction3[transaction3['product_size']  == 'medium']\n",
    "transaction_large = transaction3[transaction3['product_size']  == 'large']"
   ]
  },
  {
   "cell_type": "code",
   "execution_count": 159,
   "metadata": {},
   "outputs": [],
   "source": [
    "lists = []\n",
    "for id in pd.unique(transaction_small.customer_id):\n",
    "    date = transaction_small[transaction_small.customer_id == id]['transaction_date']\n",
    "    dates = date.sort_values().reset_index().transaction_date\n",
    "    list = []\n",
    "    for i in range(len(dates)):\n",
    "        list.append(int(str(dates[i])[5:7]) - int(str(dates[0])[5:7]))\n",
    "    lists.append(list)\n",
    "\n",
    "lists_ = []\n",
    "for id in pd.unique(transaction_medium.customer_id):\n",
    "    date = transaction_medium[transaction_medium.customer_id == id]['transaction_date']\n",
    "    dates = date.sort_values().reset_index().transaction_date\n",
    "    list = []\n",
    "    for i in range(len(dates)):\n",
    "        list.append(int(str(dates[i])[5:7]) - int(str(dates[0])[5:7]))\n",
    "    lists_.append(list)\n",
    "\n",
    "\n",
    "_lists_ = []\n",
    "for id in pd.unique(transaction_large.customer_id):\n",
    "    date = transaction_large[transaction_large.customer_id == id]['transaction_date']\n",
    "    dates = date.sort_values().reset_index().transaction_date\n",
    "    list = []\n",
    "    for i in range(len(dates)):\n",
    "        list.append(int(str(dates[i])[5:7]) - int(str(dates[0])[5:7]))\n",
    "    _lists_.append(list)\n"
   ]
  },
  {
   "cell_type": "code",
   "execution_count": 160,
   "metadata": {},
   "outputs": [],
   "source": [
    "lists2 = []\n",
    "for l in lists:\n",
    "    b = []\n",
    "    [b.append(i) for i in l if i not in b]\n",
    "    lists2.append(b)\n",
    "lists_2 = []\n",
    "for l in lists_:\n",
    "    b = []\n",
    "    [b.append(i) for i in l if i not in b]\n",
    "    lists_2.append(b)\n",
    "lists_3 = []\n",
    "for l in _lists_:\n",
    "    b = []\n",
    "    [b.append(i) for i in l if i not in b]\n",
    "    lists_3.append(b)"
   ]
  },
  {
   "cell_type": "code",
   "execution_count": 162,
   "metadata": {},
   "outputs": [],
   "source": [
    "dict = {}\n",
    "for i in range(12):\n",
    "    dict[i] = 0\n",
    "count = len(lists2)\n",
    "for i in lists2:\n",
    "    for j in range(12):\n",
    "        if j in i:\n",
    "            dict[j] += 1  \n",
    "        else:\n",
    "            break \n",
    "\n",
    "dict2 = {}\n",
    "for i in range(12):\n",
    "    dict2[i] = 0\n",
    "count2 = len(lists_2)\n",
    "for i in lists_2:\n",
    "    for j in range(12):\n",
    "        if j in i:\n",
    "            dict2[j] += 1  \n",
    "        else:\n",
    "            break \n",
    "\n",
    "dict3 = {}\n",
    "for i in range(12):\n",
    "    dict3[i] = 0\n",
    "count3 = len(lists_3)\n",
    "for i in lists_3:\n",
    "    for j in range(12):\n",
    "        if j in i:\n",
    "            dict3[j] += 1  \n",
    "        else:\n",
    "            break "
   ]
  },
  {
   "cell_type": "code",
   "execution_count": 163,
   "metadata": {},
   "outputs": [],
   "source": [
    "for i in range(12):\n",
    "    dict[i] = dict[i] / count\n",
    "for i in range(12):\n",
    "    dict2[i] = dict2[i] / count2\n",
    "for i in range(12):\n",
    "    dict3[i] = dict3[i] / count3"
   ]
  },
  {
   "cell_type": "code",
   "execution_count": 164,
   "metadata": {},
   "outputs": [
    {
     "data": {
      "text/plain": [
       "Text(0, 0.5, 'retention rate')"
      ]
     },
     "execution_count": 164,
     "metadata": {},
     "output_type": "execute_result"
    },
    {
     "data": {
      "image/png": "[encoded data removed]",
      "text/plain": [
       "<Figure size 864x504 with 1 Axes>"
      ]
     },
     "metadata": {
      "needs_background": "light"
     },
     "output_type": "display_data"
    }
   ],
   "source": [
    "plt.figure(figsize=(12,7))\n",
    "plt.plot( dict.keys() ,  dict.values()  , label = \"small\" ,  )  \n",
    "plt.plot( dict2.keys() ,  dict2.values()   , label = \"medium\" )   \n",
    "plt.plot( dict3.keys() ,  dict3.values()   , label = \"large\" )   \n",
    "\n",
    "plt.legend()\n",
    "plt.title(\"retention rate per month\")\n",
    "plt.xlabel(\"month after first buy\")\n",
    "plt.ylabel(\"retention rate\")\n",
    " "
   ]
  },
  {
   "cell_type": "markdown",
   "metadata": {},
   "source": [
    "# 2"
   ]
  },
  {
   "cell_type": "code",
   "execution_count": 165,
   "metadata": {},
   "outputs": [
    {
     "data": {
      "text/plain": [
       "transaction_id        0\n",
       "product_id            0\n",
       "customer_id           0\n",
       "transaction_date      0\n",
       "online_order        360\n",
       "product_size        197\n",
       "dtype: int64"
      ]
     },
     "execution_count": 165,
     "metadata": {},
     "output_type": "execute_result"
    }
   ],
   "source": [
    "transaction.isna().sum()"
   ]
  },
  {
   "cell_type": "code",
   "execution_count": 188,
   "metadata": {},
   "outputs": [],
   "source": [
    "import pandas as pd\n",
    "import seaborn as sns\n",
    "import matplotlib.pyplot as plt\n",
    "import numpy as np\n",
    "import datetime as dt\n",
    "import missingno as msno\n",
    "from textwrap import wrap"
   ]
  },
  {
   "cell_type": "code",
   "execution_count": 189,
   "metadata": {},
   "outputs": [
    {
     "data": {
      "text/html": [
       "<div>\n",
       "<style scoped>\n",
       "    .dataframe tbody tr th:only-of-type {\n",
       "        vertical-align: middle;\n",
       "    }\n",
       "\n",
       "    .dataframe tbody tr th {\n",
       "        vertical-align: top;\n",
       "    }\n",
       "\n",
       "    .dataframe thead th {\n",
       "        text-align: right;\n",
       "    }\n",
       "</style>\n",
       "<table border=\"1\" class=\"dataframe\">\n",
       "  <thead>\n",
       "    <tr style=\"text-align: right;\">\n",
       "      <th></th>\n",
       "      <th>transaction_id</th>\n",
       "      <th>product_id</th>\n",
       "      <th>customer_id</th>\n",
       "      <th>transaction_date</th>\n",
       "      <th>online_order</th>\n",
       "      <th>product_size</th>\n",
       "      <th>TransactionMonth</th>\n",
       "      <th>CohortMonth</th>\n",
       "    </tr>\n",
       "  </thead>\n",
       "  <tbody>\n",
       "    <tr>\n",
       "      <th>0</th>\n",
       "      <td>1</td>\n",
       "      <td>2</td>\n",
       "      <td>2950</td>\n",
       "      <td>2017-02-25</td>\n",
       "      <td>0.0</td>\n",
       "      <td>medium</td>\n",
       "      <td>2017-02-01</td>\n",
       "      <td>2017-02-01</td>\n",
       "    </tr>\n",
       "    <tr>\n",
       "      <th>1</th>\n",
       "      <td>2</td>\n",
       "      <td>3</td>\n",
       "      <td>3120</td>\n",
       "      <td>2017-05-21</td>\n",
       "      <td>1.0</td>\n",
       "      <td>large</td>\n",
       "      <td>2017-05-01</td>\n",
       "      <td>2017-01-01</td>\n",
       "    </tr>\n",
       "    <tr>\n",
       "      <th>2</th>\n",
       "      <td>3</td>\n",
       "      <td>37</td>\n",
       "      <td>402</td>\n",
       "      <td>2017-10-16</td>\n",
       "      <td>0.0</td>\n",
       "      <td>medium</td>\n",
       "      <td>2017-10-01</td>\n",
       "      <td>2017-01-01</td>\n",
       "    </tr>\n",
       "    <tr>\n",
       "      <th>3</th>\n",
       "      <td>4</td>\n",
       "      <td>88</td>\n",
       "      <td>3135</td>\n",
       "      <td>2017-08-31</td>\n",
       "      <td>0.0</td>\n",
       "      <td>medium</td>\n",
       "      <td>2017-08-01</td>\n",
       "      <td>2017-02-01</td>\n",
       "    </tr>\n",
       "    <tr>\n",
       "      <th>4</th>\n",
       "      <td>5</td>\n",
       "      <td>78</td>\n",
       "      <td>787</td>\n",
       "      <td>2017-10-01</td>\n",
       "      <td>1.0</td>\n",
       "      <td>large</td>\n",
       "      <td>2017-10-01</td>\n",
       "      <td>2017-01-01</td>\n",
       "    </tr>\n",
       "  </tbody>\n",
       "</table>\n",
       "</div>"
      ],
      "text/plain": [
       "   transaction_id  product_id  customer_id transaction_date  online_order  \\\n",
       "0               1           2         2950       2017-02-25           0.0   \n",
       "1               2           3         3120       2017-05-21           1.0   \n",
       "2               3          37          402       2017-10-16           0.0   \n",
       "3               4          88         3135       2017-08-31           0.0   \n",
       "4               5          78          787       2017-10-01           1.0   \n",
       "\n",
       "  product_size TransactionMonth CohortMonth  \n",
       "0       medium       2017-02-01  2017-02-01  \n",
       "1        large       2017-05-01  2017-01-01  \n",
       "2       medium       2017-10-01  2017-01-01  \n",
       "3       medium       2017-08-01  2017-02-01  \n",
       "4        large       2017-10-01  2017-01-01  "
      ]
     },
     "metadata": {},
     "output_type": "display_data"
    }
   ],
   "source": [
    "# A function that will parse the date Time based cohort:  1 day of month\n",
    "def get_month(x): return dt.datetime(x.year, x.month, 1) \n",
    "# Create transaction_date column based on month and store in TransactionMonth\n",
    "transaction['TransactionMonth'] = transaction['transaction_date'].apply(get_month) \n",
    "# Grouping by customer_id and select the InvoiceMonth value\n",
    "grouping = transaction.groupby('customer_id')['TransactionMonth'] \n",
    "# Assigning a minimum InvoiceMonth value to the dataset\n",
    "transaction['CohortMonth'] = grouping.transform('min')\n",
    "# printing top 5 rows\n",
    "display(transaction.head())"
   ]
  },
  {
   "cell_type": "code",
   "execution_count": 190,
   "metadata": {},
   "outputs": [],
   "source": [
    "def get_date_int(df, column):\n",
    "    year = df[column].dt.year\n",
    "    month = df[column].dt.month\n",
    "    day = df[column].dt.day\n",
    "    return year, month, day\n",
    "# Getting the integers for date parts from the `InvoiceDay` column\n",
    "transcation_year, transaction_month, _ = get_date_int(transaction, 'TransactionMonth')\n",
    "# Getting the integers for date parts from the `CohortDay` column\n",
    "cohort_year, cohort_month, _ = get_date_int(transaction, 'CohortMonth')"
   ]
  },
  {
   "cell_type": "code",
   "execution_count": 191,
   "metadata": {},
   "outputs": [
    {
     "data": {
      "text/html": [
       "<div>\n",
       "<style scoped>\n",
       "    .dataframe tbody tr th:only-of-type {\n",
       "        vertical-align: middle;\n",
       "    }\n",
       "\n",
       "    .dataframe tbody tr th {\n",
       "        vertical-align: top;\n",
       "    }\n",
       "\n",
       "    .dataframe thead th {\n",
       "        text-align: right;\n",
       "    }\n",
       "</style>\n",
       "<table border=\"1\" class=\"dataframe\">\n",
       "  <thead>\n",
       "    <tr style=\"text-align: right;\">\n",
       "      <th></th>\n",
       "      <th>transaction_id</th>\n",
       "      <th>product_id</th>\n",
       "      <th>customer_id</th>\n",
       "      <th>transaction_date</th>\n",
       "      <th>online_order</th>\n",
       "      <th>product_size</th>\n",
       "      <th>TransactionMonth</th>\n",
       "      <th>CohortMonth</th>\n",
       "      <th>CohortIndex</th>\n",
       "    </tr>\n",
       "  </thead>\n",
       "  <tbody>\n",
       "    <tr>\n",
       "      <th>0</th>\n",
       "      <td>1</td>\n",
       "      <td>2</td>\n",
       "      <td>2950</td>\n",
       "      <td>2017-02-25</td>\n",
       "      <td>0.0</td>\n",
       "      <td>medium</td>\n",
       "      <td>2017-02-01</td>\n",
       "      <td>2017-02-01</td>\n",
       "      <td>1</td>\n",
       "    </tr>\n",
       "    <tr>\n",
       "      <th>1</th>\n",
       "      <td>2</td>\n",
       "      <td>3</td>\n",
       "      <td>3120</td>\n",
       "      <td>2017-05-21</td>\n",
       "      <td>1.0</td>\n",
       "      <td>large</td>\n",
       "      <td>2017-05-01</td>\n",
       "      <td>2017-01-01</td>\n",
       "      <td>5</td>\n",
       "    </tr>\n",
       "    <tr>\n",
       "      <th>2</th>\n",
       "      <td>3</td>\n",
       "      <td>37</td>\n",
       "      <td>402</td>\n",
       "      <td>2017-10-16</td>\n",
       "      <td>0.0</td>\n",
       "      <td>medium</td>\n",
       "      <td>2017-10-01</td>\n",
       "      <td>2017-01-01</td>\n",
       "      <td>10</td>\n",
       "    </tr>\n",
       "    <tr>\n",
       "      <th>3</th>\n",
       "      <td>4</td>\n",
       "      <td>88</td>\n",
       "      <td>3135</td>\n",
       "      <td>2017-08-31</td>\n",
       "      <td>0.0</td>\n",
       "      <td>medium</td>\n",
       "      <td>2017-08-01</td>\n",
       "      <td>2017-02-01</td>\n",
       "      <td>7</td>\n",
       "    </tr>\n",
       "    <tr>\n",
       "      <th>4</th>\n",
       "      <td>5</td>\n",
       "      <td>78</td>\n",
       "      <td>787</td>\n",
       "      <td>2017-10-01</td>\n",
       "      <td>1.0</td>\n",
       "      <td>large</td>\n",
       "      <td>2017-10-01</td>\n",
       "      <td>2017-01-01</td>\n",
       "      <td>10</td>\n",
       "    </tr>\n",
       "  </tbody>\n",
       "</table>\n",
       "</div>"
      ],
      "text/plain": [
       "   transaction_id  product_id  customer_id transaction_date  online_order  \\\n",
       "0               1           2         2950       2017-02-25           0.0   \n",
       "1               2           3         3120       2017-05-21           1.0   \n",
       "2               3          37          402       2017-10-16           0.0   \n",
       "3               4          88         3135       2017-08-31           0.0   \n",
       "4               5          78          787       2017-10-01           1.0   \n",
       "\n",
       "  product_size TransactionMonth CohortMonth  CohortIndex  \n",
       "0       medium       2017-02-01  2017-02-01            1  \n",
       "1        large       2017-05-01  2017-01-01            5  \n",
       "2       medium       2017-10-01  2017-01-01           10  \n",
       "3       medium       2017-08-01  2017-02-01            7  \n",
       "4        large       2017-10-01  2017-01-01           10  "
      ]
     },
     "metadata": {},
     "output_type": "display_data"
    }
   ],
   "source": [
    "#  Get the  difference in years\n",
    "years_diff = transcation_year - cohort_year\n",
    "# Calculate difference in months\n",
    "months_diff = transaction_month - cohort_month\n",
    "\"\"\" Extract the difference in months from all previous values\n",
    " \"+1\" in addeded at the end so that first month is marked as 1 instead of 0 for easier interpretation. \n",
    " \"\"\"\n",
    "transaction['CohortIndex'] = years_diff * 12 + months_diff  + 1 \n",
    "display(transaction.head(5))"
   ]
  },
  {
   "cell_type": "code",
   "execution_count": 192,
   "metadata": {},
   "outputs": [
    {
     "data": {
      "text/html": [
       "<div>\n",
       "<style scoped>\n",
       "    .dataframe tbody tr th:only-of-type {\n",
       "        vertical-align: middle;\n",
       "    }\n",
       "\n",
       "    .dataframe tbody tr th {\n",
       "        vertical-align: top;\n",
       "    }\n",
       "\n",
       "    .dataframe thead th {\n",
       "        text-align: right;\n",
       "    }\n",
       "</style>\n",
       "<table border=\"1\" class=\"dataframe\">\n",
       "  <thead>\n",
       "    <tr style=\"text-align: right;\">\n",
       "      <th></th>\n",
       "      <th>CohortMonth</th>\n",
       "      <th>CohortIndex</th>\n",
       "      <th>customer_id</th>\n",
       "    </tr>\n",
       "  </thead>\n",
       "  <tbody>\n",
       "    <tr>\n",
       "      <th>0</th>\n",
       "      <td>2017-01-01</td>\n",
       "      <td>1</td>\n",
       "      <td>1354</td>\n",
       "    </tr>\n",
       "    <tr>\n",
       "      <th>1</th>\n",
       "      <td>2017-01-01</td>\n",
       "      <td>2</td>\n",
       "      <td>486</td>\n",
       "    </tr>\n",
       "    <tr>\n",
       "      <th>2</th>\n",
       "      <td>2017-01-01</td>\n",
       "      <td>3</td>\n",
       "      <td>508</td>\n",
       "    </tr>\n",
       "    <tr>\n",
       "      <th>3</th>\n",
       "      <td>2017-01-01</td>\n",
       "      <td>4</td>\n",
       "      <td>509</td>\n",
       "    </tr>\n",
       "    <tr>\n",
       "      <th>4</th>\n",
       "      <td>2017-01-01</td>\n",
       "      <td>5</td>\n",
       "      <td>502</td>\n",
       "    </tr>\n",
       "  </tbody>\n",
       "</table>\n",
       "</div>"
      ],
      "text/plain": [
       "  CohortMonth  CohortIndex  customer_id\n",
       "0  2017-01-01            1         1354\n",
       "1  2017-01-01            2          486\n",
       "2  2017-01-01            3          508\n",
       "3  2017-01-01            4          509\n",
       "4  2017-01-01            5          502"
      ]
     },
     "execution_count": 192,
     "metadata": {},
     "output_type": "execute_result"
    }
   ],
   "source": [
    "# Counting daily active user from each chort\n",
    "grouping = transaction.groupby(['CohortMonth', 'CohortIndex'])\n",
    "# Counting number of unique customer Id's falling in each group of CohortMonth and CohortIndex\n",
    "cohort_data = grouping['customer_id'].apply(pd.Series.nunique)\n",
    "cohort_data = cohort_data.reset_index()\n",
    " # Assigning column names to the dataframe created above\n",
    "cohort_counts = cohort_data.pivot(index='CohortMonth',\n",
    "                                 columns ='CohortIndex',\n",
    "                                 values = 'customer_id')\n",
    "# Printing top 5 rows of Dataframe\n",
    "cohort_data.head()"
   ]
  },
  {
   "cell_type": "code",
   "execution_count": 193,
   "metadata": {},
   "outputs": [
    {
     "data": {
      "text/html": [
       "<div>\n",
       "<style scoped>\n",
       "    .dataframe tbody tr th:only-of-type {\n",
       "        vertical-align: middle;\n",
       "    }\n",
       "\n",
       "    .dataframe tbody tr th {\n",
       "        vertical-align: top;\n",
       "    }\n",
       "\n",
       "    .dataframe thead th {\n",
       "        text-align: right;\n",
       "    }\n",
       "</style>\n",
       "<table border=\"1\" class=\"dataframe\">\n",
       "  <thead>\n",
       "    <tr style=\"text-align: right;\">\n",
       "      <th>CohortIndex</th>\n",
       "      <th>1</th>\n",
       "      <th>2</th>\n",
       "      <th>3</th>\n",
       "      <th>4</th>\n",
       "      <th>5</th>\n",
       "      <th>6</th>\n",
       "      <th>7</th>\n",
       "      <th>8</th>\n",
       "      <th>9</th>\n",
       "      <th>10</th>\n",
       "      <th>11</th>\n",
       "      <th>12</th>\n",
       "    </tr>\n",
       "    <tr>\n",
       "      <th>CohortMonth</th>\n",
       "      <th></th>\n",
       "      <th></th>\n",
       "      <th></th>\n",
       "      <th></th>\n",
       "      <th></th>\n",
       "      <th></th>\n",
       "      <th></th>\n",
       "      <th></th>\n",
       "      <th></th>\n",
       "      <th></th>\n",
       "      <th></th>\n",
       "      <th></th>\n",
       "    </tr>\n",
       "  </thead>\n",
       "  <tbody>\n",
       "    <tr>\n",
       "      <th>2017-01-01</th>\n",
       "      <td>100.0</td>\n",
       "      <td>35.9</td>\n",
       "      <td>37.5</td>\n",
       "      <td>37.6</td>\n",
       "      <td>37.1</td>\n",
       "      <td>35.7</td>\n",
       "      <td>38.3</td>\n",
       "      <td>39.1</td>\n",
       "      <td>36.9</td>\n",
       "      <td>39.2</td>\n",
       "      <td>36.7</td>\n",
       "      <td>38.1</td>\n",
       "    </tr>\n",
       "    <tr>\n",
       "      <th>2017-02-01</th>\n",
       "      <td>100.0</td>\n",
       "      <td>40.6</td>\n",
       "      <td>37.2</td>\n",
       "      <td>39.1</td>\n",
       "      <td>36.0</td>\n",
       "      <td>37.2</td>\n",
       "      <td>38.5</td>\n",
       "      <td>35.1</td>\n",
       "      <td>41.1</td>\n",
       "      <td>38.5</td>\n",
       "      <td>37.0</td>\n",
       "      <td>NaN</td>\n",
       "    </tr>\n",
       "    <tr>\n",
       "      <th>2017-03-01</th>\n",
       "      <td>100.0</td>\n",
       "      <td>34.5</td>\n",
       "      <td>36.0</td>\n",
       "      <td>34.5</td>\n",
       "      <td>37.6</td>\n",
       "      <td>38.0</td>\n",
       "      <td>35.5</td>\n",
       "      <td>43.8</td>\n",
       "      <td>39.0</td>\n",
       "      <td>37.4</td>\n",
       "      <td>NaN</td>\n",
       "      <td>NaN</td>\n",
       "    </tr>\n",
       "    <tr>\n",
       "      <th>2017-04-01</th>\n",
       "      <td>100.0</td>\n",
       "      <td>33.0</td>\n",
       "      <td>36.0</td>\n",
       "      <td>45.5</td>\n",
       "      <td>42.6</td>\n",
       "      <td>36.0</td>\n",
       "      <td>42.3</td>\n",
       "      <td>37.5</td>\n",
       "      <td>39.3</td>\n",
       "      <td>NaN</td>\n",
       "      <td>NaN</td>\n",
       "      <td>NaN</td>\n",
       "    </tr>\n",
       "    <tr>\n",
       "      <th>2017-05-01</th>\n",
       "      <td>100.0</td>\n",
       "      <td>40.5</td>\n",
       "      <td>38.6</td>\n",
       "      <td>41.4</td>\n",
       "      <td>33.8</td>\n",
       "      <td>35.2</td>\n",
       "      <td>34.8</td>\n",
       "      <td>38.6</td>\n",
       "      <td>NaN</td>\n",
       "      <td>NaN</td>\n",
       "      <td>NaN</td>\n",
       "      <td>NaN</td>\n",
       "    </tr>\n",
       "    <tr>\n",
       "      <th>2017-06-01</th>\n",
       "      <td>100.0</td>\n",
       "      <td>36.9</td>\n",
       "      <td>36.1</td>\n",
       "      <td>38.5</td>\n",
       "      <td>37.7</td>\n",
       "      <td>37.7</td>\n",
       "      <td>43.4</td>\n",
       "      <td>NaN</td>\n",
       "      <td>NaN</td>\n",
       "      <td>NaN</td>\n",
       "      <td>NaN</td>\n",
       "      <td>NaN</td>\n",
       "    </tr>\n",
       "    <tr>\n",
       "      <th>2017-07-01</th>\n",
       "      <td>100.0</td>\n",
       "      <td>33.8</td>\n",
       "      <td>37.7</td>\n",
       "      <td>41.6</td>\n",
       "      <td>48.1</td>\n",
       "      <td>31.2</td>\n",
       "      <td>NaN</td>\n",
       "      <td>NaN</td>\n",
       "      <td>NaN</td>\n",
       "      <td>NaN</td>\n",
       "      <td>NaN</td>\n",
       "      <td>NaN</td>\n",
       "    </tr>\n",
       "    <tr>\n",
       "      <th>2017-08-01</th>\n",
       "      <td>100.0</td>\n",
       "      <td>37.3</td>\n",
       "      <td>41.2</td>\n",
       "      <td>33.3</td>\n",
       "      <td>25.5</td>\n",
       "      <td>NaN</td>\n",
       "      <td>NaN</td>\n",
       "      <td>NaN</td>\n",
       "      <td>NaN</td>\n",
       "      <td>NaN</td>\n",
       "      <td>NaN</td>\n",
       "      <td>NaN</td>\n",
       "    </tr>\n",
       "    <tr>\n",
       "      <th>2017-09-01</th>\n",
       "      <td>100.0</td>\n",
       "      <td>30.4</td>\n",
       "      <td>30.4</td>\n",
       "      <td>39.1</td>\n",
       "      <td>NaN</td>\n",
       "      <td>NaN</td>\n",
       "      <td>NaN</td>\n",
       "      <td>NaN</td>\n",
       "      <td>NaN</td>\n",
       "      <td>NaN</td>\n",
       "      <td>NaN</td>\n",
       "      <td>NaN</td>\n",
       "    </tr>\n",
       "    <tr>\n",
       "      <th>2017-10-01</th>\n",
       "      <td>100.0</td>\n",
       "      <td>30.0</td>\n",
       "      <td>40.0</td>\n",
       "      <td>NaN</td>\n",
       "      <td>NaN</td>\n",
       "      <td>NaN</td>\n",
       "      <td>NaN</td>\n",
       "      <td>NaN</td>\n",
       "      <td>NaN</td>\n",
       "      <td>NaN</td>\n",
       "      <td>NaN</td>\n",
       "      <td>NaN</td>\n",
       "    </tr>\n",
       "    <tr>\n",
       "      <th>2017-11-01</th>\n",
       "      <td>100.0</td>\n",
       "      <td>38.5</td>\n",
       "      <td>NaN</td>\n",
       "      <td>NaN</td>\n",
       "      <td>NaN</td>\n",
       "      <td>NaN</td>\n",
       "      <td>NaN</td>\n",
       "      <td>NaN</td>\n",
       "      <td>NaN</td>\n",
       "      <td>NaN</td>\n",
       "      <td>NaN</td>\n",
       "      <td>NaN</td>\n",
       "    </tr>\n",
       "    <tr>\n",
       "      <th>2017-12-01</th>\n",
       "      <td>100.0</td>\n",
       "      <td>NaN</td>\n",
       "      <td>NaN</td>\n",
       "      <td>NaN</td>\n",
       "      <td>NaN</td>\n",
       "      <td>NaN</td>\n",
       "      <td>NaN</td>\n",
       "      <td>NaN</td>\n",
       "      <td>NaN</td>\n",
       "      <td>NaN</td>\n",
       "      <td>NaN</td>\n",
       "      <td>NaN</td>\n",
       "    </tr>\n",
       "  </tbody>\n",
       "</table>\n",
       "</div>"
      ],
      "text/plain": [
       "CohortIndex     1     2     3     4     5     6     7     8     9     10  \\\n",
       "CohortMonth                                                                \n",
       "2017-01-01   100.0  35.9  37.5  37.6  37.1  35.7  38.3  39.1  36.9  39.2   \n",
       "2017-02-01   100.0  40.6  37.2  39.1  36.0  37.2  38.5  35.1  41.1  38.5   \n",
       "2017-03-01   100.0  34.5  36.0  34.5  37.6  38.0  35.5  43.8  39.0  37.4   \n",
       "2017-04-01   100.0  33.0  36.0  45.5  42.6  36.0  42.3  37.5  39.3   NaN   \n",
       "2017-05-01   100.0  40.5  38.6  41.4  33.8  35.2  34.8  38.6   NaN   NaN   \n",
       "2017-06-01   100.0  36.9  36.1  38.5  37.7  37.7  43.4   NaN   NaN   NaN   \n",
       "2017-07-01   100.0  33.8  37.7  41.6  48.1  31.2   NaN   NaN   NaN   NaN   \n",
       "2017-08-01   100.0  37.3  41.2  33.3  25.5   NaN   NaN   NaN   NaN   NaN   \n",
       "2017-09-01   100.0  30.4  30.4  39.1   NaN   NaN   NaN   NaN   NaN   NaN   \n",
       "2017-10-01   100.0  30.0  40.0   NaN   NaN   NaN   NaN   NaN   NaN   NaN   \n",
       "2017-11-01   100.0  38.5   NaN   NaN   NaN   NaN   NaN   NaN   NaN   NaN   \n",
       "2017-12-01   100.0   NaN   NaN   NaN   NaN   NaN   NaN   NaN   NaN   NaN   \n",
       "\n",
       "CohortIndex    11    12  \n",
       "CohortMonth              \n",
       "2017-01-01   36.7  38.1  \n",
       "2017-02-01   37.0   NaN  \n",
       "2017-03-01    NaN   NaN  \n",
       "2017-04-01    NaN   NaN  \n",
       "2017-05-01    NaN   NaN  \n",
       "2017-06-01    NaN   NaN  \n",
       "2017-07-01    NaN   NaN  \n",
       "2017-08-01    NaN   NaN  \n",
       "2017-09-01    NaN   NaN  \n",
       "2017-10-01    NaN   NaN  \n",
       "2017-11-01    NaN   NaN  \n",
       "2017-12-01    NaN   NaN  "
      ]
     },
     "execution_count": 193,
     "metadata": {},
     "output_type": "execute_result"
    }
   ],
   "source": [
    "cohort_sizes = cohort_counts.iloc[:,0]\n",
    "retention = cohort_counts.divide(cohort_sizes, axis=0)\n",
    "# Coverting the retention rate into percentage and Rounding off.\n",
    "result = retention.round(3)*100\n",
    "result"
   ]
  },
  {
   "cell_type": "code",
   "execution_count": 194,
   "metadata": {},
   "outputs": [
    {
     "data": {
      "image/png": "[encoded data removed]",
      "text/plain": [
       "<Figure size 1152x720 with 2 Axes>"
      ]
     },
     "metadata": {
      "needs_background": "light"
     },
     "output_type": "display_data"
    }
   ],
   "source": [
    "result.index = result.index.strftime('%Y-%m')\n",
    "# Initialize the figure\n",
    "plt.figure(figsize=(16, 10))\n",
    "# Adding a title\n",
    "plt.title('Average Standard Cost: Monthly Cohorts', fontsize = 14)\n",
    "# Creating the heatmap\n",
    "sns.heatmap(result, annot = True,vmin = 0.0, vmax =100 , cmap=\"YlGnBu\", fmt='g')\n",
    "plt.ylabel('Cohort Month')\n",
    "plt.xlabel('Cohort Index')\n",
    "plt.yticks( rotation='360')\n",
    "plt.show()"
   ]
  }
 ],
 "metadata": {
  "kernelspec": {
   "display_name": "Python 3",
   "language": "python",
   "name": "python3"
  },
  "language_info": {
   "codemirror_mode": {
    "name": "ipython",
    "version": 3
   },
   "file_extension": ".py",
   "mimetype": "text/x-python",
   "name": "python",
   "nbconvert_exporter": "python",
   "pygments_lexer": "ipython3",
   "version": "3.10.5"
  },
  "orig_nbformat": 4,
  "vscode": {
   "interpreter": {
    "hash": "98a70705198618b40757f4d0e0cd81e920cd534dd864d2ad541ce8c6b4f10eed"
   }
  }
 },
 "nbformat": 4,
 "nbformat_minor": 2
}
